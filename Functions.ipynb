{
 "cells": [
  {
   "cell_type": "markdown",
   "metadata": {},
   "source": [
    "## Get coordinate\n",
    "- input: image\n",
    "- output: coordinate (x, y)"
   ]
  },
  {
   "cell_type": "code",
   "execution_count": 3,
   "metadata": {},
   "outputs": [
    {
     "name": "stdout",
     "output_type": "stream",
     "text": [
      "976 546\n"
     ]
    }
   ],
   "source": [
    "import os\n",
    "import cv2\n",
    "import shutil\n",
    "\n",
    "pixel_x = []\n",
    "pixel_y = []\n",
    "\n",
    "def mouse(event, x, y, flags, param):\n",
    "    if event == cv2.EVENT_LBUTTONDOWN:\n",
    "        pixel_x.append(x)\n",
    "        pixel_y.append(y)\n",
    "        print(x,y)\n",
    "\n",
    "def frameGenerator(video_path):\n",
    "    cmd = \"python Frame_Generator.py <video> tmp\"\n",
    "    cmd = cmd.replace(\"<video>\", video_path)\n",
    "    os.system(cmd)\n",
    "\n",
    "def getCoordinate(index):\n",
    "    frame = \"tmp/\" + str(index) + \".png\"\n",
    "    img = cv2.imread(frame)\n",
    "    cv2.namedWindow(\"image\", cv2.WINDOW_NORMAL)\n",
    "    cv2.setWindowProperty(\"image\", cv2.WND_PROP_FULLSCREEN, cv2.WINDOW_FULLSCREEN)\n",
    "    cv2.imshow(\"image\", img)\n",
    "    cv2.setMouseCallback(\"image\", mouse)\n",
    "\n",
    "def releaseTmp():\n",
    "    try:\n",
    "        shutil.rmtree(\"tmp\")\n",
    "    except OSError as e:\n",
    "        print(e)\n",
    "\n",
    "img = cv2.imread('image.png')\n",
    "img = cv2.resize(img, (1920,1080))\n",
    "cv2.namedWindow(\"image\", cv2.WINDOW_NORMAL)\n",
    "cv2.setWindowProperty(\"image\", cv2.WND_PROP_FULLSCREEN, cv2.WINDOW_FULLSCREEN)\n",
    "cv2.imshow(\"image\", img)\n",
    "cv2.setMouseCallback(\"image\", mouse)\n",
    "cv2.waitKey(0)\n",
    "cv2.destroyAllWindows()"
   ]
  },
  {
   "cell_type": "markdown",
   "metadata": {},
   "source": [
    "## Generate empty videos\n",
    "- input: parameters\n",
    "- output: folders with empty videos"
   ]
  },
  {
   "cell_type": "code",
   "execution_count": 6,
   "metadata": {},
   "outputs": [
    {
     "data": {
      "application/vnd.jupyter.widget-view+json": {
       "model_id": "d5017be0bf64445587ea32e8e16bbb72",
       "version_major": 2,
       "version_minor": 0
      },
      "text/plain": [
       "HBox(children=(IntProgress(value=0, max=7), HTML(value='')))"
      ]
     },
     "metadata": {},
     "output_type": "display_data"
    },
    {
     "name": "stdout",
     "output_type": "stream",
     "text": [
      "\n"
     ]
    }
   ],
   "source": [
    "from tqdm import tqdm, tqdm_notebook\n",
    "from utils.checkDirExist import checkDirExist\n",
    "\n",
    "position = '5'\n",
    "height = '150'\n",
    "Speed = range(80, 141, 10)\n",
    "Angle_H = range(30, 31, 10)\n",
    "Angle_V = range(40, 41, 10)\n",
    "\n",
    "output_dir = 'data/'\n",
    "filename = 'NUTN_' + position + '_' + height\n",
    "\n",
    "for speed in tqdm_notebook(Speed):\n",
    "    f = filename\n",
    "    f1 = filename + '_' + str(speed)\n",
    "    \n",
    "    for horizontal in Angle_H:\n",
    "        f2 = f1 + '_' + str(horizontal)\n",
    "        \n",
    "        for vertical in Angle_V:\n",
    "            f3 = f2 + '_' + str(vertical)\n",
    "            \n",
    "            # save as empty video\n",
    "            video_dir = output_dir+str(speed)+'/'\n",
    "            checkDirExist(video_dir)\n",
    "            video = open(video_dir+f3+'.mp4', 'w')\n",
    "            video.close()\n",
    "            \n",
    "#             for times in range(1, 16):\n",
    "#                 video = open(video_dir+f3+'_'+str(times)+'.mp4', 'w')\n",
    "#                 video.close()"
   ]
  },
  {
   "cell_type": "code",
   "execution_count": null,
   "metadata": {},
   "outputs": [],
   "source": []
  }
 ],
 "metadata": {
  "kernelspec": {
   "display_name": "Python 3.6 (tensorflow2-gpu)",
   "language": "python",
   "name": "tensorflow2-gpu"
  },
  "language_info": {
   "codemirror_mode": {
    "name": "ipython",
    "version": 3
   },
   "file_extension": ".py",
   "mimetype": "text/x-python",
   "name": "python",
   "nbconvert_exporter": "python",
   "pygments_lexer": "ipython3",
   "version": "3.6.8-final"
  }
 },
 "nbformat": 4,
 "nbformat_minor": 2
}