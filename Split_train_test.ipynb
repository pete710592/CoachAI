{
 "cells": [
  {
   "cell_type": "markdown",
   "metadata": {},
   "source": [
    "## Moving files to train directory"
   ]
  },
  {
   "cell_type": "code",
   "execution_count": 1,
   "metadata": {},
   "outputs": [
    {
     "data": {
      "application/vnd.jupyter.widget-view+json": {
       "model_id": "02451abef77a441cbf97add5dd82bc1c",
       "version_major": 2,
       "version_minor": 0
      },
      "text/plain": [
       "HBox(children=(IntProgress(value=0, max=168), HTML(value='')))"
      ]
     },
     "metadata": {},
     "output_type": "display_data"
    },
    {
     "name": "stdout",
     "output_type": "stream",
     "text": [
      "\n"
     ]
    }
   ],
   "source": [
    "import os\n",
    "import shutil\n",
    "from tqdm import tqdm_notebook\n",
    "from utils.functions import checkDirExist\n",
    "\n",
    "source_dir = 'D:/Programming/Dataset/Badminton/position_2/csvs/trajectory/'\n",
    "source_list = os.listdir(source_dir)\n",
    "\n",
    "target_dir = 'D:/Programming/Dataset/Badminton/position_2/csvs/trajectory/train/'\n",
    "checkDirExist(target_dir)\n",
    "\n",
    "for file in tqdm_notebook(source_list):\n",
    "    try:        \n",
    "        source = source_dir+file\n",
    "        target = target_dir+file\n",
    "        shutil.move(source, target)\n",
    "    except:\n",
    "        pass"
   ]
  },
  {
   "cell_type": "markdown",
   "metadata": {},
   "source": [
    "## CSV"
   ]
  },
  {
   "cell_type": "code",
   "execution_count": 4,
   "metadata": {},
   "outputs": [
    {
     "data": {
      "application/vnd.jupyter.widget-view+json": {
       "model_id": "b13c661c1f42427e9aab42e1987301e3",
       "version_major": 2,
       "version_minor": 0
      },
      "text/plain": [
       "HBox(children=(IntProgress(value=0, max=1544), HTML(value='')))"
      ]
     },
     "metadata": {},
     "output_type": "display_data"
    },
    {
     "name": "stdout",
     "output_type": "stream",
     "text": [
      "\n"
     ]
    }
   ],
   "source": [
    "import os\n",
    "import shutil\n",
    "import glob\n",
    "from tqdm import tqdm_notebook\n",
    "from utils.checkDirExist import checkDirExist\n",
    "\n",
    "source_dir = 'D:/Programming/Dataset/Badminton/position_5/trajectory-all/train/'\n",
    "source_list = os.listdir(source_dir)\n",
    "\n",
    "target_dir = 'D:/Programming/Dataset/Badminton/position_5/trajectory-all/test/'\n",
    "checkDirExist(target_dir)\n",
    "target_list = os.listdir(target_dir)\n",
    "\n",
    "# for file in tqdm_notebook(target_list):\n",
    "#     try:        \n",
    "#         source = source_dir+file\n",
    "#         target = target_dir+file\n",
    "#         shutil.move(target, source)\n",
    "#     except:\n",
    "#         pass\n",
    "\n",
    "# -------------------------------------------------------\n",
    "# target_list = glob.glob(source_dir + \"NUTN_5_150_130_*.csv\")\n",
    "target_list = glob.glob(source_dir + \"*_3_predict*.csv\")\n",
    "\n",
    "for file in tqdm_notebook(target_list):\n",
    "    file = file.split('\\\\')[-1]\n",
    "    try:\n",
    "        source = source_dir+file\n",
    "        target = target_dir+file\n",
    "        shutil.move(source, target)\n",
    "    except:\n",
    "        pass"
   ]
  },
  {
   "cell_type": "markdown",
   "metadata": {},
   "source": [
    "## Image"
   ]
  },
  {
   "cell_type": "code",
   "execution_count": 27,
   "metadata": {},
   "outputs": [
    {
     "data": {
      "application/vnd.jupyter.widget-view+json": {
       "model_id": "6639d90b15004e1fb7c440d2877c6eba",
       "version_major": 2,
       "version_minor": 0
      },
      "text/plain": [
       "HBox(children=(IntProgress(value=0, max=1544), HTML(value='')))"
      ]
     },
     "metadata": {},
     "output_type": "display_data"
    },
    {
     "name": "stdout",
     "output_type": "stream",
     "text": [
      "\n"
     ]
    }
   ],
   "source": [
    "import os\n",
    "import shutil\n",
    "import glob\n",
    "from tqdm import tqdm_notebook\n",
    "from utils.checkDirExist import checkDirExist\n",
    "\n",
    "source_dir = 'D:/Programming/Dataset/Badminton/position_5/image-all/train/'\n",
    "source_list = os.listdir(source_dir)\n",
    "\n",
    "target_dir = 'D:/Programming/Dataset/Badminton/position_5/image-all/test/'\n",
    "checkDirExist(target_dir)\n",
    "target_list = os.listdir(target_dir)\n",
    "\n",
    "# for file in tqdm_notebook(target_list):\n",
    "#     try:        \n",
    "#         source = source_dir+file\n",
    "#         target = target_dir+file\n",
    "#         shutil.move(target, source)\n",
    "#     except:\n",
    "#         pass\n",
    "\n",
    "# -------------------------------------------------------\n",
    "# target_list = glob.glob(source_dir + \"NUTN_5_150_130_*.jpg\")\n",
    "target_list = glob.glob(source_dir + \"*3_predict*.jpg\")\n",
    "\n",
    "for file in tqdm_notebook(target_list):\n",
    "    file = file.split('\\\\')[-1]\n",
    "    try:\n",
    "        source = source_dir+file\n",
    "        target = target_dir+file\n",
    "        shutil.move(source, target)\n",
    "    except:\n",
    "        pass"
   ]
  },
  {
   "cell_type": "code",
   "execution_count": null,
   "metadata": {},
   "outputs": [],
   "source": []
  }
 ],
 "metadata": {
  "kernelspec": {
   "display_name": "Python 3",
   "language": "python",
   "name": "python3"
  },
  "language_info": {
   "codemirror_mode": {
    "name": "ipython",
    "version": 3
   },
   "file_extension": ".py",
   "mimetype": "text/x-python",
   "name": "python",
   "nbconvert_exporter": "python",
   "pygments_lexer": "ipython3",
   "version": "3.6.7"
  }
 },
 "nbformat": 4,
 "nbformat_minor": 4
}
