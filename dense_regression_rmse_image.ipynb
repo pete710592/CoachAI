{
 "cells": [
  {
   "cell_type": "markdown",
   "metadata": {},
   "source": [
    "## Import requirements & Parameters setting"
   ]
  },
  {
   "cell_type": "code",
   "execution_count": 5,
   "metadata": {},
   "outputs": [
    {
     "name": "stdout",
     "output_type": "stream",
     "text": [
      "train:  119\n",
      "valid:  29\n",
      "test:  20\n"
     ]
    }
   ],
   "source": [
    "import os\n",
    "import cv2\n",
    "import random\n",
    "import pandas as pd\n",
    "import numpy as np\n",
    "import matplotlib.pyplot as plt\n",
    "import tensorflow as tf\n",
    "import math\n",
    "import glob\n",
    "from tensorflow import keras\n",
    "from keras import backend as K\n",
    "from tensorflow.keras.preprocessing.image import img_to_array\n",
    "from tensorflow.keras.models import Sequential, Model\n",
    "from tensorflow.keras.layers import Dense, Flatten, Conv2D, MaxPooling2D, Dropout, BatchNormalization, LSTM, TimeDistributed, Input\n",
    "from sklearn.metrics import mean_absolute_error, mean_squared_error\n",
    "from utils.functions import checkDirExist, deleteDir\n",
    "\n",
    "batch_size = 32\n",
    "epochs = 300\n",
    "\n",
    "# set model name & model directory\n",
    "model_name = '20201202_dense-rmse-position2-image2-100-batchnorm-7dense-valid02'\n",
    "model_dir = os.path.join(os.getcwd(), 'models/'+model_name)\n",
    "log_dir = os.path.join(os.getcwd(), 'logs/'+model_name)\n",
    "checkDirExist(model_dir)\n",
    "\n",
    "# get train data (image)\n",
    "train_dir = os.path.join(os.getcwd(), 'dataset/position_2/image2-100/train/')\n",
    "train_list = glob.glob(train_dir + \"*.jpg\")\n",
    "\n",
    "# split validation\n",
    "random.Random(4).shuffle(train_list)\n",
    "vaild_num = int(len(train_list)*0.2)\n",
    "valid_list = train_list[:vaild_num]\n",
    "train_list = train_list[vaild_num:]\n",
    "\n",
    "# get test data (image)\n",
    "test_dir = os.path.join(os.getcwd(), 'dataset/position_2/image2-100/test/')\n",
    "test_list = glob.glob(test_dir + \"*.jpg\")\n",
    "\n",
    "print('train: ', len(train_list))\n",
    "print('valid: ', len(valid_list))\n",
    "print('test: ', len(test_list))"
   ]
  },
  {
   "cell_type": "markdown",
   "metadata": {},
   "source": [
    "## Dynamic allocation for GPU (optional)"
   ]
  },
  {
   "cell_type": "code",
   "execution_count": 3,
   "metadata": {},
   "outputs": [],
   "source": [
    "import keras.backend.tensorflow_backend as KTF\n",
    "\n",
    "# os.environ[\"CUDA_VISIBLE_DEVICES\"] = \"0\"\n",
    "config = tf.ConfigProto()\n",
    "config.gpu_options.allow_growth=True   # Dynamic allocation\n",
    "sess = tf.Session(config=config)\n",
    "KTF.set_session(sess)"
   ]
  },
  {
   "cell_type": "markdown",
   "metadata": {},
   "source": [
    "## Train / Validation / Test generator definition"
   ]
  },
  {
   "cell_type": "code",
   "execution_count": 4,
   "metadata": {},
   "outputs": [],
   "source": [
    "def train_generator():\n",
    "    while(True):\n",
    "        random.Random(4).shuffle(train_list)\n",
    "        for i, image in enumerate(train_list):\n",
    "            data = cv2.imread(image, cv2.IMREAD_GRAYSCALE)\n",
    "            data = cv2.resize(data, (320, 180))\n",
    "            data = img_to_array(data) / 255\n",
    "            label = image.split('/')[-1].split('_')[3:6]\n",
    "            \n",
    "            x_train = np.expand_dims(data, axis=0)\n",
    "            y_train = np.expand_dims(np.array(label), axis=0)\n",
    "\n",
    "            y_train = y_train.astype(np.float32)\n",
    "            y_train[:, 0] = (y_train[:, 0]-20)/120\n",
    "            y_train[:, 1] = (y_train[:, 1]-10)/60\n",
    "            y_train[:, 2] = (y_train[:, 2]-10)/30\n",
    "\n",
    "            yield x_train, y_train, [None]"
   ]
  },
  {
   "cell_type": "code",
   "execution_count": 5,
   "metadata": {},
   "outputs": [],
   "source": [
    "def valid_generator():\n",
    "    while(True):\n",
    "        for i, image in enumerate(valid_list):\n",
    "            data = cv2.imread(image, cv2.IMREAD_GRAYSCALE)\n",
    "            data = cv2.resize(data, (320, 180))\n",
    "            data = img_to_array(data) / 255\n",
    "            label = image.split('/')[-1].split('_')[3:6]\n",
    "            \n",
    "            x_valid = np.expand_dims(data, axis=0)\n",
    "            y_valid = np.expand_dims(np.array(label), axis=0)\n",
    "\n",
    "            y_valid = y_valid.astype(np.float32)\n",
    "            y_valid[:, 0] = (y_valid[:, 0]-20)/120\n",
    "            y_valid[:, 1] = (y_valid[:, 1]-10)/60\n",
    "            y_valid[:, 2] = (y_valid[:, 2]-10)/30\n",
    "\n",
    "            yield x_valid, y_valid, [None]"
   ]
  },
  {
   "cell_type": "code",
   "execution_count": 6,
   "metadata": {},
   "outputs": [],
   "source": [
    "def test_generator():\n",
    "    for i, image in enumerate(test_list):\n",
    "        data = cv2.imread(image, cv2.IMREAD_GRAYSCALE)\n",
    "        data = cv2.resize(data, (320, 180))\n",
    "        data = img_to_array(data) / 255\n",
    "        label = image.split('/')[-1].split('_')[3:6]\n",
    "\n",
    "        x_test = np.expand_dims(data, axis=0)\n",
    "        y_test = np.expand_dims(np.array(label), axis=0)\n",
    "\n",
    "        x_test = x_test.astype(np.float32)\n",
    "        y_test = y_test.astype(np.float32)\n",
    "        yield x_test, y_test, [None]"
   ]
  },
  {
   "cell_type": "markdown",
   "metadata": {},
   "source": [
    "## Build model"
   ]
  },
  {
   "cell_type": "code",
   "execution_count": 7,
   "metadata": {},
   "outputs": [],
   "source": [
    "def root_mean_squared_error(y_true, y_pred):\n",
    "        return K.sqrt(K.mean(K.square(y_pred - y_true)))"
   ]
  },
  {
   "cell_type": "code",
   "execution_count": 8,
   "metadata": {},
   "outputs": [
    {
     "name": "stdout",
     "output_type": "stream",
     "text": [
      "WARNING:tensorflow:From /opt/conda/lib/python3.6/site-packages/tensorflow/python/ops/resource_variable_ops.py:435: colocate_with (from tensorflow.python.framework.ops) is deprecated and will be removed in a future version.\n",
      "Instructions for updating:\n",
      "Colocations handled automatically by placer.\n",
      "WARNING:tensorflow:From /opt/conda/lib/python3.6/site-packages/tensorflow/python/keras/layers/core.py:143: calling dropout (from tensorflow.python.ops.nn_ops) with keep_prob is deprecated and will be removed in a future version.\n",
      "Instructions for updating:\n",
      "Please use `rate` instead of `keep_prob`. Rate should be set to `rate = 1 - keep_prob`.\n",
      "_________________________________________________________________\n",
      "Layer (type)                 Output Shape              Param #   \n",
      "=================================================================\n",
      "flatten (Flatten)            (None, 57600)             0         \n",
      "_________________________________________________________________\n",
      "batch_normalization_v1 (Batc (None, 57600)             230400    \n",
      "_________________________________________________________________\n",
      "dense (Dense)                (None, 64)                3686464   \n",
      "_________________________________________________________________\n",
      "dropout (Dropout)            (None, 64)                0         \n",
      "_________________________________________________________________\n",
      "dense_1 (Dense)              (None, 128)               8320      \n",
      "_________________________________________________________________\n",
      "dropout_1 (Dropout)          (None, 128)               0         \n",
      "_________________________________________________________________\n",
      "dense_2 (Dense)              (None, 256)               33024     \n",
      "_________________________________________________________________\n",
      "dropout_2 (Dropout)          (None, 256)               0         \n",
      "_________________________________________________________________\n",
      "dense_3 (Dense)              (None, 128)               32896     \n",
      "_________________________________________________________________\n",
      "dropout_3 (Dropout)          (None, 128)               0         \n",
      "_________________________________________________________________\n",
      "dense_4 (Dense)              (None, 64)                8256      \n",
      "_________________________________________________________________\n",
      "dropout_4 (Dropout)          (None, 64)                0         \n",
      "_________________________________________________________________\n",
      "dense_5 (Dense)              (None, 16)                1040      \n",
      "_________________________________________________________________\n",
      "dropout_5 (Dropout)          (None, 16)                0         \n",
      "_________________________________________________________________\n",
      "dense_6 (Dense)              (None, 3)                 51        \n",
      "=================================================================\n",
      "Total params: 4,000,451\n",
      "Trainable params: 3,885,251\n",
      "Non-trainable params: 115,200\n",
      "_________________________________________________________________\n"
     ]
    }
   ],
   "source": [
    "model = Sequential()\n",
    "model.add(Flatten(input_shape=(180, 320, 1)))\n",
    "model.add(BatchNormalization())\n",
    "model.add(Dense(64, activation='relu'))\n",
    "model.add(Dropout(0.2))\n",
    "model.add(Dense(128, activation='relu'))\n",
    "model.add(Dropout(0.2))\n",
    "model.add(Dense(256, activation='relu'))\n",
    "model.add(Dropout(0.2))\n",
    "model.add(Dense(128, activation='relu'))\n",
    "model.add(Dropout(0.2))\n",
    "model.add(Dense(64, activation='relu'))\n",
    "model.add(Dropout(0.2))\n",
    "model.add(Dense(16, activation='relu'))\n",
    "model.add(Dropout(0.2))\n",
    "model.add(Dense(3))\n",
    "\n",
    "model.compile(loss=root_mean_squared_error, optimizer=\"adam\", metrics=['mae'])\n",
    "model.summary()"
   ]
  },
  {
   "cell_type": "code",
   "execution_count": 9,
   "metadata": {
    "scrolled": true
   },
   "outputs": [],
   "source": [
    "from tensorflow.keras.utils import plot_model\n",
    "plot_file = os.path.join(model_dir, model_name+'.png')\n",
    "plot_model(model, show_shapes=True, show_layer_names=True, to_file=plot_file)"
   ]
  },
  {
   "cell_type": "code",
   "execution_count": 10,
   "metadata": {},
   "outputs": [],
   "source": [
    "# save training logs\n",
    "model_cbk = keras.callbacks.TensorBoard(log_dir=\"logs/{}\".format(model_name), histogram_freq=1)\n",
    "early_stop = keras.callbacks.EarlyStopping(monitor='val_loss', patience=10, mode='min')\n",
    "\n",
    "# save best model weights\n",
    "model_mckp = keras.callbacks.ModelCheckpoint(os.path.join(model_dir, model_name+\".h5\"), \n",
    "                                             monitor='val_loss', \n",
    "                                             save_best_only=True, \n",
    "                                             mode='min')"
   ]
  },
  {
   "cell_type": "code",
   "execution_count": 11,
   "metadata": {
    "scrolled": true
   },
   "outputs": [
    {
     "name": "stdout",
     "output_type": "stream",
     "text": [
      "Epoch 1/300\n",
      "116/116 [==============================] - 20s 175ms/step - loss: 0.5805 - mean_absolute_error: 0.5258\n",
      "32/32 [==============================] - 23s 704ms/step - loss: 0.6119 - mean_absolute_error: 0.5476 - val_loss: 0.5805 - val_mean_absolute_error: 0.5258\n",
      "Epoch 2/300\n",
      "116/116 [==============================] - 20s 175ms/step - loss: 0.5596 - mean_absolute_error: 0.5049\n",
      "32/32 [==============================] - 22s 679ms/step - loss: 0.5796 - mean_absolute_error: 0.5165 - val_loss: 0.5596 - val_mean_absolute_error: 0.5049\n",
      "Epoch 3/300\n",
      "116/116 [==============================] - 20s 174ms/step - loss: 0.5389 - mean_absolute_error: 0.4847\n",
      "32/32 [==============================] - 21s 667ms/step - loss: 0.5650 - mean_absolute_error: 0.5055 - val_loss: 0.5389 - val_mean_absolute_error: 0.4847\n",
      "Epoch 4/300\n",
      "116/116 [==============================] - 20s 174ms/step - loss: 0.5183 - mean_absolute_error: 0.4644\n",
      "32/32 [==============================] - 21s 671ms/step - loss: 0.5210 - mean_absolute_error: 0.4656 - val_loss: 0.5183 - val_mean_absolute_error: 0.4644\n",
      "Epoch 5/300\n",
      "116/116 [==============================] - 20s 173ms/step - loss: 0.4970 - mean_absolute_error: 0.4442\n",
      "32/32 [==============================] - 21s 666ms/step - loss: 0.5209 - mean_absolute_error: 0.4717 - val_loss: 0.4970 - val_mean_absolute_error: 0.4442\n",
      "Epoch 6/300\n",
      "116/116 [==============================] - 20s 173ms/step - loss: 0.4777 - mean_absolute_error: 0.4261\n",
      "32/32 [==============================] - 21s 667ms/step - loss: 0.4911 - mean_absolute_error: 0.4188 - val_loss: 0.4777 - val_mean_absolute_error: 0.4261\n",
      "Epoch 7/300\n",
      " 57/116 [=============>................] - ETA: 10s - loss: 0.4621 - mean_absolute_error: 0.4134"
     ]
    },
    {
     "ename": "KeyboardInterrupt",
     "evalue": "",
     "output_type": "error",
     "traceback": [
      "\u001b[0;31m---------------------------------------------------------------------------\u001b[0m",
      "\u001b[0;31mKeyboardInterrupt\u001b[0m                         Traceback (most recent call last)",
      "\u001b[0;32m<ipython-input-11-b208c7b89c1c>\u001b[0m in \u001b[0;36m<module>\u001b[0;34m\u001b[0m\n\u001b[1;32m      4\u001b[0m                     \u001b[0mvalidation_data\u001b[0m\u001b[0;34m=\u001b[0m\u001b[0mvalid_generator\u001b[0m\u001b[0;34m(\u001b[0m\u001b[0;34m)\u001b[0m\u001b[0;34m,\u001b[0m\u001b[0;34m\u001b[0m\u001b[0;34m\u001b[0m\u001b[0m\n\u001b[1;32m      5\u001b[0m                     \u001b[0mvalidation_steps\u001b[0m\u001b[0;34m=\u001b[0m\u001b[0mlen\u001b[0m\u001b[0;34m(\u001b[0m\u001b[0mvalid_list\u001b[0m\u001b[0;34m)\u001b[0m\u001b[0;34m,\u001b[0m\u001b[0;34m\u001b[0m\u001b[0;34m\u001b[0m\u001b[0m\n\u001b[0;32m----> 6\u001b[0;31m                     callbacks=[model_mckp, model_cbk])\n\u001b[0m",
      "\u001b[0;32m/opt/conda/lib/python3.6/site-packages/tensorflow/python/keras/engine/training.py\u001b[0m in \u001b[0;36mfit\u001b[0;34m(self, x, y, batch_size, epochs, verbose, callbacks, validation_split, validation_data, shuffle, class_weight, sample_weight, initial_epoch, steps_per_epoch, validation_steps, max_queue_size, workers, use_multiprocessing, **kwargs)\u001b[0m\n\u001b[1;32m    735\u001b[0m           \u001b[0muse_multiprocessing\u001b[0m\u001b[0;34m=\u001b[0m\u001b[0muse_multiprocessing\u001b[0m\u001b[0;34m,\u001b[0m\u001b[0;34m\u001b[0m\u001b[0;34m\u001b[0m\u001b[0m\n\u001b[1;32m    736\u001b[0m           \u001b[0mshuffle\u001b[0m\u001b[0;34m=\u001b[0m\u001b[0mshuffle\u001b[0m\u001b[0;34m,\u001b[0m\u001b[0;34m\u001b[0m\u001b[0;34m\u001b[0m\u001b[0m\n\u001b[0;32m--> 737\u001b[0;31m           initial_epoch=initial_epoch)\n\u001b[0m\u001b[1;32m    738\u001b[0m \u001b[0;34m\u001b[0m\u001b[0m\n\u001b[1;32m    739\u001b[0m     \u001b[0;31m# Legacy support\u001b[0m\u001b[0;34m\u001b[0m\u001b[0;34m\u001b[0m\u001b[0;34m\u001b[0m\u001b[0m\n",
      "\u001b[0;32m/opt/conda/lib/python3.6/site-packages/tensorflow/python/keras/engine/training.py\u001b[0m in \u001b[0;36mfit_generator\u001b[0;34m(self, generator, steps_per_epoch, epochs, verbose, callbacks, validation_data, validation_steps, class_weight, max_queue_size, workers, use_multiprocessing, shuffle, initial_epoch)\u001b[0m\n\u001b[1;32m   1424\u001b[0m         \u001b[0muse_multiprocessing\u001b[0m\u001b[0;34m=\u001b[0m\u001b[0muse_multiprocessing\u001b[0m\u001b[0;34m,\u001b[0m\u001b[0;34m\u001b[0m\u001b[0;34m\u001b[0m\u001b[0m\n\u001b[1;32m   1425\u001b[0m         \u001b[0mshuffle\u001b[0m\u001b[0;34m=\u001b[0m\u001b[0mshuffle\u001b[0m\u001b[0;34m,\u001b[0m\u001b[0;34m\u001b[0m\u001b[0;34m\u001b[0m\u001b[0m\n\u001b[0;32m-> 1426\u001b[0;31m         initial_epoch=initial_epoch)\n\u001b[0m\u001b[1;32m   1427\u001b[0m \u001b[0;34m\u001b[0m\u001b[0m\n\u001b[1;32m   1428\u001b[0m   def evaluate_generator(self,\n",
      "\u001b[0;32m/opt/conda/lib/python3.6/site-packages/tensorflow/python/keras/engine/training_generator.py\u001b[0m in \u001b[0;36mmodel_iteration\u001b[0;34m(model, data, steps_per_epoch, epochs, verbose, callbacks, validation_data, validation_steps, class_weight, max_queue_size, workers, use_multiprocessing, shuffle, initial_epoch, mode, batch_size, **kwargs)\u001b[0m\n\u001b[1;32m    223\u001b[0m           \u001b[0muse_multiprocessing\u001b[0m\u001b[0;34m=\u001b[0m\u001b[0muse_multiprocessing\u001b[0m\u001b[0;34m,\u001b[0m\u001b[0;34m\u001b[0m\u001b[0;34m\u001b[0m\u001b[0m\n\u001b[1;32m    224\u001b[0m           \u001b[0mmax_queue_size\u001b[0m\u001b[0;34m=\u001b[0m\u001b[0mmax_queue_size\u001b[0m\u001b[0;34m,\u001b[0m\u001b[0;34m\u001b[0m\u001b[0;34m\u001b[0m\u001b[0m\n\u001b[0;32m--> 225\u001b[0;31m           mode='test')\n\u001b[0m\u001b[1;32m    226\u001b[0m \u001b[0;34m\u001b[0m\u001b[0m\n\u001b[1;32m    227\u001b[0m       \u001b[0;32mif\u001b[0m \u001b[0;32mnot\u001b[0m \u001b[0misinstance\u001b[0m\u001b[0;34m(\u001b[0m\u001b[0mval_results\u001b[0m\u001b[0;34m,\u001b[0m \u001b[0mlist\u001b[0m\u001b[0;34m)\u001b[0m\u001b[0;34m:\u001b[0m\u001b[0;34m\u001b[0m\u001b[0;34m\u001b[0m\u001b[0m\n",
      "\u001b[0;32m/opt/conda/lib/python3.6/site-packages/tensorflow/python/keras/engine/training_generator.py\u001b[0m in \u001b[0;36mmodel_iteration\u001b[0;34m(model, data, steps_per_epoch, epochs, verbose, callbacks, validation_data, validation_steps, class_weight, max_queue_size, workers, use_multiprocessing, shuffle, initial_epoch, mode, batch_size, **kwargs)\u001b[0m\n\u001b[1;32m    189\u001b[0m       \u001b[0mprogbar\u001b[0m\u001b[0;34m.\u001b[0m\u001b[0mon_batch_begin\u001b[0m\u001b[0;34m(\u001b[0m\u001b[0mstep\u001b[0m\u001b[0;34m,\u001b[0m \u001b[0mbatch_logs\u001b[0m\u001b[0;34m)\u001b[0m\u001b[0;34m\u001b[0m\u001b[0;34m\u001b[0m\u001b[0m\n\u001b[1;32m    190\u001b[0m \u001b[0;34m\u001b[0m\u001b[0m\n\u001b[0;32m--> 191\u001b[0;31m       \u001b[0mbatch_outs\u001b[0m \u001b[0;34m=\u001b[0m \u001b[0mbatch_function\u001b[0m\u001b[0;34m(\u001b[0m\u001b[0;34m*\u001b[0m\u001b[0mbatch_data\u001b[0m\u001b[0;34m)\u001b[0m\u001b[0;34m\u001b[0m\u001b[0;34m\u001b[0m\u001b[0m\n\u001b[0m\u001b[1;32m    192\u001b[0m       \u001b[0;32mif\u001b[0m \u001b[0;32mnot\u001b[0m \u001b[0misinstance\u001b[0m\u001b[0;34m(\u001b[0m\u001b[0mbatch_outs\u001b[0m\u001b[0;34m,\u001b[0m \u001b[0mlist\u001b[0m\u001b[0;34m)\u001b[0m\u001b[0;34m:\u001b[0m\u001b[0;34m\u001b[0m\u001b[0;34m\u001b[0m\u001b[0m\n\u001b[1;32m    193\u001b[0m         \u001b[0mbatch_outs\u001b[0m \u001b[0;34m=\u001b[0m \u001b[0;34m[\u001b[0m\u001b[0mbatch_outs\u001b[0m\u001b[0;34m]\u001b[0m\u001b[0;34m\u001b[0m\u001b[0;34m\u001b[0m\u001b[0m\n",
      "\u001b[0;32m/opt/conda/lib/python3.6/site-packages/tensorflow/python/keras/engine/training.py\u001b[0m in \u001b[0;36mtest_on_batch\u001b[0;34m(self, x, y, sample_weight, reset_metrics)\u001b[0m\n\u001b[1;32m   1254\u001b[0m       \u001b[0;32melse\u001b[0m\u001b[0;34m:\u001b[0m\u001b[0;34m\u001b[0m\u001b[0;34m\u001b[0m\u001b[0m\n\u001b[1;32m   1255\u001b[0m         \u001b[0mself\u001b[0m\u001b[0;34m.\u001b[0m\u001b[0m_make_eval_function\u001b[0m\u001b[0;34m(\u001b[0m\u001b[0;34m)\u001b[0m\u001b[0;34m\u001b[0m\u001b[0;34m\u001b[0m\u001b[0m\n\u001b[0;32m-> 1256\u001b[0;31m         \u001b[0moutputs\u001b[0m \u001b[0;34m=\u001b[0m \u001b[0mself\u001b[0m\u001b[0;34m.\u001b[0m\u001b[0m_eval_function\u001b[0m\u001b[0;34m(\u001b[0m\u001b[0minputs\u001b[0m\u001b[0;34m)\u001b[0m  \u001b[0;31m# pylint: disable=not-callable\u001b[0m\u001b[0;34m\u001b[0m\u001b[0;34m\u001b[0m\u001b[0m\n\u001b[0m\u001b[1;32m   1257\u001b[0m \u001b[0;34m\u001b[0m\u001b[0m\n\u001b[1;32m   1258\u001b[0m     \u001b[0;32mif\u001b[0m \u001b[0mreset_metrics\u001b[0m\u001b[0;34m:\u001b[0m\u001b[0;34m\u001b[0m\u001b[0;34m\u001b[0m\u001b[0m\n",
      "\u001b[0;32m/opt/conda/lib/python3.6/site-packages/tensorflow/python/keras/backend.py\u001b[0m in \u001b[0;36m__call__\u001b[0;34m(self, inputs)\u001b[0m\n\u001b[1;32m   3074\u001b[0m \u001b[0;34m\u001b[0m\u001b[0m\n\u001b[1;32m   3075\u001b[0m     fetched = self._callable_fn(*array_vals,\n\u001b[0;32m-> 3076\u001b[0;31m                                 run_metadata=self.run_metadata)\n\u001b[0m\u001b[1;32m   3077\u001b[0m     \u001b[0mself\u001b[0m\u001b[0;34m.\u001b[0m\u001b[0m_call_fetch_callbacks\u001b[0m\u001b[0;34m(\u001b[0m\u001b[0mfetched\u001b[0m\u001b[0;34m[\u001b[0m\u001b[0;34m-\u001b[0m\u001b[0mlen\u001b[0m\u001b[0;34m(\u001b[0m\u001b[0mself\u001b[0m\u001b[0;34m.\u001b[0m\u001b[0m_fetches\u001b[0m\u001b[0;34m)\u001b[0m\u001b[0;34m:\u001b[0m\u001b[0;34m]\u001b[0m\u001b[0;34m)\u001b[0m\u001b[0;34m\u001b[0m\u001b[0;34m\u001b[0m\u001b[0m\n\u001b[1;32m   3078\u001b[0m     return nest.pack_sequence_as(self._outputs_structure,\n",
      "\u001b[0;32m/opt/conda/lib/python3.6/site-packages/tensorflow/python/client/session.py\u001b[0m in \u001b[0;36m__call__\u001b[0;34m(self, *args, **kwargs)\u001b[0m\n\u001b[1;32m   1437\u001b[0m           ret = tf_session.TF_SessionRunCallable(\n\u001b[1;32m   1438\u001b[0m               \u001b[0mself\u001b[0m\u001b[0;34m.\u001b[0m\u001b[0m_session\u001b[0m\u001b[0;34m.\u001b[0m\u001b[0m_session\u001b[0m\u001b[0;34m,\u001b[0m \u001b[0mself\u001b[0m\u001b[0;34m.\u001b[0m\u001b[0m_handle\u001b[0m\u001b[0;34m,\u001b[0m \u001b[0margs\u001b[0m\u001b[0;34m,\u001b[0m \u001b[0mstatus\u001b[0m\u001b[0;34m,\u001b[0m\u001b[0;34m\u001b[0m\u001b[0;34m\u001b[0m\u001b[0m\n\u001b[0;32m-> 1439\u001b[0;31m               run_metadata_ptr)\n\u001b[0m\u001b[1;32m   1440\u001b[0m         \u001b[0;32mif\u001b[0m \u001b[0mrun_metadata\u001b[0m\u001b[0;34m:\u001b[0m\u001b[0;34m\u001b[0m\u001b[0;34m\u001b[0m\u001b[0m\n\u001b[1;32m   1441\u001b[0m           \u001b[0mproto_data\u001b[0m \u001b[0;34m=\u001b[0m \u001b[0mtf_session\u001b[0m\u001b[0;34m.\u001b[0m\u001b[0mTF_GetBuffer\u001b[0m\u001b[0;34m(\u001b[0m\u001b[0mrun_metadata_ptr\u001b[0m\u001b[0;34m)\u001b[0m\u001b[0;34m\u001b[0m\u001b[0;34m\u001b[0m\u001b[0m\n",
      "\u001b[0;31mKeyboardInterrupt\u001b[0m: "
     ]
    }
   ],
   "source": [
    "history = model.fit(train_generator(), \n",
    "                    steps_per_epoch=batch_size, \n",
    "                    epochs=epochs,\n",
    "                    validation_data=valid_generator(),\n",
    "                    validation_steps=len(valid_list),\n",
    "                    callbacks=[model_mckp, model_cbk])"
   ]
  },
  {
   "cell_type": "markdown",
   "metadata": {},
   "source": [
    "## Load model (optional)"
   ]
  },
  {
   "cell_type": "code",
   "execution_count": 12,
   "metadata": {},
   "outputs": [
    {
     "data": {
      "text/plain": [
       "'\\n# Load model\\nmodel_dir = \"models/20201124_lstm_rmse-trajectory-full-3L-32-16-8-diff-euclidean/\"\\nmodel_name = \"20201124_lstm_rmse-trajectory-full-3L-32-16-8-diff-euclidean-ep280-0.075.h5\"\\nmodel_path = os.path.join(model_dir, model_name)\\nmodel = keras.models.load_model(model_path,\\n                                custom_objects={\\'root_mean_squared_error\\': root_mean_squared_error})\\n\\neval_his = model.evaluate_generator(test_generator(), steps=len(test_list), verbose=1)\\n'"
      ]
     },
     "execution_count": 12,
     "metadata": {},
     "output_type": "execute_result"
    }
   ],
   "source": [
    "'''\n",
    "# Load model\n",
    "model_dir = \"models/20201124_lstm_rmse-trajectory-full-3L-32-16-8-diff-euclidean/\"\n",
    "model_name = \"20201124_lstm_rmse-trajectory-full-3L-32-16-8-diff-euclidean-ep280-0.075.h5\"\n",
    "model_path = os.path.join(model_dir, model_name)\n",
    "model = keras.models.load_model(model_path,\n",
    "                                custom_objects={'root_mean_squared_error': root_mean_squared_error})\n",
    "\n",
    "eval_his = model.evaluate_generator(test_generator(), steps=len(test_list), verbose=1)\n",
    "'''"
   ]
  },
  {
   "cell_type": "markdown",
   "metadata": {},
   "source": [
    "## Model evaluate"
   ]
  },
  {
   "cell_type": "code",
   "execution_count": null,
   "metadata": {},
   "outputs": [],
   "source": [
    "# Predict\n",
    "predict = model.predict_generator(test_generator(), verbose=1, steps=len(test_list))\n",
    "\n",
    "predict[:, 0] = predict[:, 0] * 120 + 20\n",
    "predict[:, 1] = predict[:, 1] * 60 + 10\n",
    "predict[:, 2] = predict[:, 2] * 30 + 10\n",
    "\n",
    "# Present as dataframe\n",
    "df = pd.DataFrame()\n",
    "for i, (_, y_test, _) in enumerate(test_generator()):\n",
    "    df.loc[i, 'Speed'] = y_test[:, 0]\n",
    "    df.loc[i, 'Angle_H'] = y_test[:, 1]\n",
    "    df.loc[i, 'Angle_V'] = y_test[:, 2]\n",
    "    df.loc[i, 'Predict(Speed)'] = predict[:,0][i]\n",
    "    df.loc[i, 'Predict(Angle_H)'] = predict[:,1][i]\n",
    "    df.loc[i, 'Predict(Angle_V)'] = predict[:,2][i]\n",
    "\n",
    "# Adjust data type\n",
    "df = df.astype({'Speed': 'int32',\n",
    "                'Angle_H': 'int32',\n",
    "                'Angle_V': 'int32',\n",
    "                'Predict(Speed)': 'int32',\n",
    "                'Predict(Angle_H)': 'int32',\n",
    "                'Predict(Angle_V)': 'int32'})\n",
    "\n",
    "# Caculate Loss\n",
    "for i in df.index:\n",
    "    target = df.loc[i, ['Speed', 'Angle_H', 'Angle_V']].tolist()\n",
    "    target[0] = (target[0]-20)/120\n",
    "    target[1] = (target[1]-10)/60\n",
    "    target[2] = (target[2]-10)/30\n",
    "    pred = df.loc[i, ['Predict(Speed)', 'Predict(Angle_H)', 'Predict(Angle_V)']].tolist()\n",
    "    pred[0] = (pred[0]-20)/120\n",
    "    pred[1] = (pred[1]-10)/60\n",
    "    pred[2] = (pred[2]-10)/30\n",
    "    \n",
    "    mae = mean_absolute_error(target, pred)\n",
    "    rmse = np.sqrt(mean_squared_error(target, pred))\n",
    "    df.loc[i, 'MAE'] = np.around(mae, decimals=6)\n",
    "    df.loc[i, 'RMSE'] = np.around(rmse, decimals=6)\n",
    "\n",
    "df.sort_values(\"Speed\", inplace=True)\n",
    "df"
   ]
  },
  {
   "cell_type": "markdown",
   "metadata": {},
   "source": [
    "## Save evaluate results"
   ]
  },
  {
   "cell_type": "code",
   "execution_count": null,
   "metadata": {},
   "outputs": [],
   "source": [
    "# Caculate mean loss\n",
    "last_idx = len(df)\n",
    "df.loc[last_idx, 'MAE'] = df['MAE'].mean()\n",
    "df.loc[last_idx, 'RMSE'] = df['RMSE'].mean()\n",
    "\n",
    "# Save result to csv\n",
    "result_dir = os.path.join(os.getcwd(), 'predictions/')\n",
    "checkDirExist(result_dir)\n",
    "df.to_csv(os.path.join(result_dir, model_name+'.csv'), index=False)"
   ]
  },
  {
   "cell_type": "markdown",
   "metadata": {},
   "source": [
    "## Plot history"
   ]
  },
  {
   "cell_type": "code",
   "execution_count": null,
   "metadata": {},
   "outputs": [],
   "source": [
    "plt.plot(history.history['loss'])\n",
    "plt.plot(history.history['val_loss'])\n",
    "plt.title('loss')\n",
    "plt.ylabel('loss')\n",
    "plt.xlabel('epoch')\n",
    "plt.legend(['train', 'validation'], loc='upper left')\n",
    "plt.show()"
   ]
  },
  {
   "cell_type": "code",
   "execution_count": null,
   "metadata": {},
   "outputs": [],
   "source": [
    "plt.plot(history.history['mean_absolute_error'])\n",
    "plt.plot(history.history['val_mean_absolute_error'])\n",
    "plt.title('mae')\n",
    "plt.ylabel('mae')\n",
    "plt.xlabel('epoch')\n",
    "plt.legend(['train', 'validation'], loc='upper left')\n",
    "plt.show()"
   ]
  },
  {
   "cell_type": "markdown",
   "metadata": {},
   "source": [
    "## Convert Jupyter(.ipynb) to Python(.py) (optional)"
   ]
  },
  {
   "cell_type": "code",
   "execution_count": 17,
   "metadata": {},
   "outputs": [],
   "source": [
    "# jupyter nbconvert --to script dense_regression_rmse_image.ipynb"
   ]
  },
  {
   "cell_type": "code",
   "execution_count": null,
   "metadata": {},
   "outputs": [],
   "source": []
  }
 ],
 "metadata": {
  "kernelspec": {
   "display_name": "Python 3",
   "language": "python",
   "name": "python3"
  },
  "language_info": {
   "codemirror_mode": {
    "name": "ipython",
    "version": 3
   },
   "file_extension": ".py",
   "mimetype": "text/x-python",
   "name": "python",
   "nbconvert_exporter": "python",
   "pygments_lexer": "ipython3",
   "version": "3.6.7"
  }
 },
 "nbformat": 4,
 "nbformat_minor": 4
}
