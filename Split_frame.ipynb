{
 "cells": [
  {
   "cell_type": "code",
   "execution_count": 95,
   "metadata": {},
   "outputs": [
    {
     "name": "stdout",
     "output_type": "stream",
     "text": [
      "Total: 80\n"
     ]
    }
   ],
   "source": [
    "import glob\n",
    "import pandas as pd\n",
    "import os\n",
    "import numpy as np\n",
    "import cv2\n",
    "from tqdm import tqdm_notebook\n",
    "from utils.functions import checkDirExist\n",
    "\n",
    "train_dir = 'D:/Programming/Dataset/Badminton/position_2/trajectory-all/test/'\n",
    "save_dir = 'D:/Programming/Dataset/Badminton/position_2/trajectory-all-padding/test/'\n",
    "# image_dir = 'D:/Programming/Dataset/Badminton/position_2/image-70/train/'\n",
    "\n",
    "checkDirExist(save_dir)\n",
    "# checkDirExist(image_dir)\n",
    "csvFiles = glob.glob(train_dir + \"*.csv\")\n",
    "print(\"Total:\", len(csvFiles))"
   ]
  },
  {
   "cell_type": "markdown",
   "metadata": {},
   "source": [
    "## Clear unnecessary columns"
   ]
  },
  {
   "cell_type": "code",
   "execution_count": 91,
   "metadata": {},
   "outputs": [
    {
     "data": {
      "application/vnd.jupyter.widget-view+json": {
       "model_id": "cde31fab9284492b9b3d9ac2b429dffc",
       "version_major": 2,
       "version_minor": 0
      },
      "text/plain": [
       "HBox(children=(IntProgress(value=0, max=592), HTML(value='')))"
      ]
     },
     "metadata": {},
     "output_type": "display_data"
    },
    {
     "name": "stdout",
     "output_type": "stream",
     "text": [
      "\n"
     ]
    }
   ],
   "source": [
    "for csv in tqdm_notebook(csvFiles):\n",
    "    df = pd.read_csv(csv)\n",
    "    try:\n",
    "        df = df.drop(columns='Unnamed: 0')\n",
    "    except:\n",
    "        pass\n",
    "    try:\n",
    "        df = df.drop(columns='Unnamed: 0.1')\n",
    "    except:\n",
    "        pass\n",
    "    \n",
    "    df.to_csv(csv, index=False)"
   ]
  },
  {
   "cell_type": "code",
   "execution_count": 92,
   "metadata": {},
   "outputs": [
    {
     "data": {
      "application/vnd.jupyter.widget-view+json": {
       "model_id": "24cee38b03674a6a98e9b02e79422406",
       "version_major": 2,
       "version_minor": 0
      },
      "text/plain": [
       "HBox(children=(IntProgress(value=0, max=592), HTML(value='')))"
      ]
     },
     "metadata": {},
     "output_type": "display_data"
    },
    {
     "name": "stdout",
     "output_type": "stream",
     "text": [
      "\n",
      "Min rows: 16\n",
      "Max rows: 81\n"
     ]
    }
   ],
   "source": [
    "length = []\n",
    "for csv in tqdm_notebook(csvFiles):\n",
    "    df = pd.read_csv(csv)\n",
    "    length.append(len(df))\n",
    "print(\"Min rows:\", min(length))\n",
    "print(\"Max rows:\", max(length))"
   ]
  },
  {
   "cell_type": "markdown",
   "metadata": {},
   "source": [
    "## Split by min rows"
   ]
  },
  {
   "cell_type": "code",
   "execution_count": 74,
   "metadata": {
    "scrolled": true
   },
   "outputs": [
    {
     "data": {
      "text/plain": [
       "'for csv in tqdm_notebook(csvFiles):\\n    df = pd.read_csv(csv)\\n    df = df[:min(length)]\\n            \\n    save = os.path.join(save_dir , csv.split(\"\\\\\")[1])\\n    df.to_csv(save, index=False)'"
      ]
     },
     "execution_count": 74,
     "metadata": {},
     "output_type": "execute_result"
    }
   ],
   "source": [
    "for csv in tqdm_notebook(csvFiles):\n",
    "    df = pd.read_csv(csv)\n",
    "    df = df[:min(length)]\n",
    "            \n",
    "    save = os.path.join(save_dir , csv.split(\"\\\\\")[1])\n",
    "    df.to_csv(save, index=False)"
   ]
  },
  {
   "cell_type": "markdown",
   "metadata": {},
   "source": [
    "## Split by max rows"
   ]
  },
  {
   "cell_type": "code",
   "execution_count": 96,
   "metadata": {},
   "outputs": [
    {
     "data": {
      "application/vnd.jupyter.widget-view+json": {
       "model_id": "7e97f24fb4154f5899112c0411d70b53",
       "version_major": 2,
       "version_minor": 0
      },
      "text/plain": [
       "HBox(children=(IntProgress(value=0, max=80), HTML(value='')))"
      ]
     },
     "metadata": {},
     "output_type": "display_data"
    },
    {
     "name": "stderr",
     "output_type": "stream",
     "text": [
      "C:\\Users\\hyCheng\\Anaconda3\\envs\\tensorflow2-gpu\\lib\\site-packages\\ipykernel_launcher.py:6: DeprecationWarning: \n",
      ".ix is deprecated. Please use\n",
      ".loc for label based indexing or\n",
      ".iloc for positional indexing\n",
      "\n",
      "See the documentation here:\n",
      "http://pandas.pydata.org/pandas-docs/stable/indexing.html#ix-indexer-is-deprecated\n",
      "  \n"
     ]
    },
    {
     "name": "stdout",
     "output_type": "stream",
     "text": [
      "\n"
     ]
    }
   ],
   "source": [
    "for csv in tqdm_notebook(csvFiles):\n",
    "    df = pd.read_csv(csv)\n",
    "    df_length = len(df)\n",
    "    if df_length <= max(length):\n",
    "        for i in range(df_length, max(length)):\n",
    "            df.ix[i] = df.ix[i-1]\n",
    "            df.loc[i, 'X'] = 0\n",
    "            df.loc[i, 'Y'] = 0\n",
    "            \n",
    "    save = os.path.join(save_dir , csv.split(\"\\\\\")[1])\n",
    "    df.to_csv(save, index=False)"
   ]
  },
  {
   "cell_type": "markdown",
   "metadata": {},
   "source": [
    "## Split by percentage"
   ]
  },
  {
   "cell_type": "code",
   "execution_count": 76,
   "metadata": {},
   "outputs": [
    {
     "data": {
      "application/vnd.jupyter.widget-view+json": {
       "model_id": "3dbdc67d06cc466690529f5248bb7858",
       "version_major": 2,
       "version_minor": 0
      },
      "text/plain": [
       "HBox(children=(IntProgress(value=0, max=148), HTML(value='')))"
      ]
     },
     "metadata": {},
     "output_type": "display_data"
    },
    {
     "name": "stdout",
     "output_type": "stream",
     "text": [
      "\n"
     ]
    }
   ],
   "source": [
    "def plot(df):\n",
    "    img = np.ones((1080, 1920, 3), np.uint8)*255\n",
    "    point_color = [0, 0, 0]\n",
    "    \n",
    "    for index in range(len(df['X'])):\n",
    "        y, x = df.loc[index, 'X'], df.loc[index, 'Y']\n",
    "        try:\n",
    "            img[x, y] = point_color\n",
    "        except IndexError as e:\n",
    "            print(filename)\n",
    "            pass\n",
    "        # draw\n",
    "        for i in range(-1, 2):\n",
    "            for j in range(-1, 2):\n",
    "                img[x+i, y+j] = point_color\n",
    "    return img\n",
    "\n",
    "# --------------------------------------------------------------------------------\n",
    "\n",
    "for csv in tqdm_notebook(csvFiles):\n",
    "    df = pd.read_csv(csv)\n",
    "    df_length = int(len(df) * 0.7)\n",
    "    df = df[:df_length]\n",
    "    \n",
    "    # save as csv\n",
    "    save = os.path.join(save_dir , csv.split(\"\\\\\")[1])\n",
    "    save = save.replace('.csv', '_70.csv')\n",
    "    df.to_csv(save, index=False)\n",
    "    \n",
    "    # save as image\n",
    "    img = plot(df)\n",
    "    save = os.path.join(image_dir , csv.split(\"\\\\\")[-1].replace('.csv', '_70.jpg'))\n",
    "    cv2.imwrite(save, img)"
   ]
  },
  {
   "cell_type": "code",
   "execution_count": null,
   "metadata": {},
   "outputs": [],
   "source": []
  }
 ],
 "metadata": {
  "kernelspec": {
   "display_name": "Python 3",
   "language": "python",
   "name": "python3"
  },
  "language_info": {
   "codemirror_mode": {
    "name": "ipython",
    "version": 3
   },
   "file_extension": ".py",
   "mimetype": "text/x-python",
   "name": "python",
   "nbconvert_exporter": "python",
   "pygments_lexer": "ipython3",
   "version": "3.6.7"
  }
 },
 "nbformat": 4,
 "nbformat_minor": 4
}
